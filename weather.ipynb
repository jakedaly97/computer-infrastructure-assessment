{
 "cells": [
  {
   "cell_type": "markdown",
   "metadata": {},
   "source": [
    "# Computer Infrastructure Assesment #\n",
    "\n",
    "This notebook contains a brief description on how each task was completed and provides detail on each command used."
   ]
  },
  {
   "cell_type": "markdown",
   "metadata": {},
   "source": [
    "## **Task 1: Create Directory Structure** ##\n",
    "\n",
    "Using the command line, create a directory (that is, a folder) named data at the root of your repository. Inside data, create two subdirectories: timestamps and weather. Using the command line, create a directory (that is, a folder) named data at the root of your repository. Inside data, create two subdirectories: timestamps and weather.\n"
   ]
  },
  {
   "cell_type": "markdown",
   "metadata": {},
   "source": [
    "## How to complete the task ##\n",
    "\n",
    "###  1. Go to the Root of the Repository  ###\n",
    "\n",
    "The terminal in Visual Studio Code was used to navigate to the root directory of the repository. This was done by using the cd command to navigate to the appropriate location.\n",
    "\n"
   ]
  },
  {
   "cell_type": "markdown",
   "metadata": {},
   "source": [
    "```bash\n",
    "cd C:\\Users\\jaked\\college\\computer-infrastructure-assessment\\\n",
    "```\n"
   ]
  },
  {
   "cell_type": "markdown",
   "metadata": {},
   "source": [
    "###  2. Create data directory  ###\n",
    "\n",
    "The mkdir command was used to create the data directory at the root of the repository."
   ]
  },
  {
   "cell_type": "markdown",
   "metadata": {},
   "source": [
    "```bash\n",
    "mkdir data\n",
    "```"
   ]
  },
  {
   "cell_type": "markdown",
   "metadata": {},
   "source": [
    "###  3. Move into the data directory  ###\n",
    "\n",
    "The cd command was used to navigate into the data directory."
   ]
  },
  {
   "cell_type": "markdown",
   "metadata": {},
   "source": [
    "```bash\n",
    "cd data\n",
    "```"
   ]
  },
  {
   "cell_type": "markdown",
   "metadata": {},
   "source": [
    "###  4. Create subdirectories ###\n",
    "\n",
    "The mkdir command was used to create the timestamps and weather subdirectories inside the data directory."
   ]
  },
  {
   "cell_type": "markdown",
   "metadata": {},
   "source": [
    "```bash\n",
    "mkdir timestamps weather\n",
    "```"
   ]
  },
  {
   "cell_type": "markdown",
   "metadata": {},
   "source": [
    "###  5. Confirm directory structure ###\n",
    "\n",
    "The ls command was used inside the data directory to ensure the timestamp and weather subdirectories were created."
   ]
  },
  {
   "cell_type": "markdown",
   "metadata": {},
   "source": [
    "```bash\n",
    "ls\n",
    "```"
   ]
  },
  {
   "cell_type": "markdown",
   "metadata": {},
   "source": [
    "### **Summary of new commands** ###\n",
    "\n",
    "- **cd**  \n",
    "  *Purpose:* Navigate between directories to ensure the correct working location.  \n",
    "  *Role in Task:* Used to move into specific directories (`data`, `timestamps`, or `weather`) before performing further actions.\n",
    "\n",
    "- **mkdir**  \n",
    "  *Purpose:* Create new directories at specified locations.  \n",
    "  *Role in Task:* Used to create the `data`, `timestamps`, and `weather` directories to organize the file structure.\n",
    "\n",
    "- **ls**  \n",
    "  *Purpose:* Verify the directory structure and confirm successful creation of directories.  \n",
    "  *Role in Task:* Used to list the contents of a directory to check if directories and files were created as expected.\n",
    "\n"
   ]
  },
  {
   "cell_type": "markdown",
   "metadata": {},
   "source": [
    "# **END** #"
   ]
  },
  {
   "cell_type": "markdown",
   "metadata": {},
   "source": [
    "## **Task 2: Timestamps** ##\n",
    "\n",
    "Navigate to the data/timestamps directory. Use the date command to output the current date and time, appending the output to a file named now.txt. Make sure to use the >> operator to append (not overwrite) the file. Repeat this step ten times, then use the more command to verify that now.txt has the expected content."
   ]
  },
  {
   "cell_type": "markdown",
   "metadata": {},
   "source": [
    "## How to complete the task ##\n",
    "\n",
    "###  1. Navigate to the data/timestamps directory  ###\n",
    "\n",
    "The cd command was used to move into the timestamps directory."
   ]
  },
  {
   "cell_type": "markdown",
   "metadata": {},
   "source": [
    "```bash\n",
    "cd data/timestamps\n",
    "```"
   ]
  },
  {
   "cell_type": "markdown",
   "metadata": {},
   "source": [
    "###  2. Output current date and time to now.txt  ###\n",
    "\n",
    "The date command was used to get the current date and time. The >> command was used to output the date to the file now.txt. This step was performed 10 time."
   ]
  },
  {
   "cell_type": "markdown",
   "metadata": {},
   "source": [
    "```bash\n",
    "date >> now.txt\n",
    "```"
   ]
  },
  {
   "cell_type": "markdown",
   "metadata": {},
   "source": [
    "###  3. Verify the now.txt file  ###\n",
    "\n",
    "The more command was used to verify the contents of the now.txt file to ensure all 10 entries were present."
   ]
  },
  {
   "cell_type": "markdown",
   "metadata": {},
   "source": [
    "```bash\n",
    "more now.txt\n",
    "```"
   ]
  },
  {
   "cell_type": "markdown",
   "metadata": {},
   "source": [
    "### **Summary of new commands** ###\n",
    "\n",
    "- **date**  \n",
    "  *Purpose:* Output the current date and time in a customizable format.  \n",
    "  *Role in Task:* Used to generate timestamps for filenames and file content, ensuring they are unique and formatted correctly.\n",
    "\n",
    "- **>>**  \n",
    "  *Purpose:* Append output to an existing file without overwriting its content.  \n",
    "  *Role in Task:* Used to append timestamps from the `date` command to files like `now.txt` and `formatted.txt`.\n",
    "\n",
    "- **more**  \n",
    "  *Purpose:* Display the contents of a file one screen at a time for easier reading.  \n",
    "  *Role in Task:* Used to verify the contents of files like `now.txt` or `formatted.txt` to ensure the expected data was appended.\n",
    "\n"
   ]
  },
  {
   "cell_type": "markdown",
   "metadata": {},
   "source": [
    "# **END** #"
   ]
  },
  {
   "cell_type": "markdown",
   "metadata": {},
   "source": [
    "## **Task 3: Formatting Timestamps** ##\n",
    "\n",
    "Run the date command again, but this time format the output using YYYYmmdd_HHMMSS (e.g., 20261114_130003 for 1:00:03 PM on November 14, 2026). Refer to the date man page (using man date) for more formatting options. (Press q to exit the man page). Append the formatted output to a file named formatted.txt."
   ]
  },
  {
   "cell_type": "markdown",
   "metadata": {},
   "source": [
    "## How to complete the task ##\n",
    "\n",
    "###  1. Run man date command  ###\n",
    "\n",
    "The manual page for the date command was accessed using the man date command, showing the formatting options for the date command."
   ]
  },
  {
   "cell_type": "markdown",
   "metadata": {},
   "source": [
    "```bash\n",
    "man date\n",
    "```"
   ]
  },
  {
   "cell_type": "markdown",
   "metadata": {},
   "source": [
    "Formatting syntax:\n",
    "\n",
    "-  **%Y** - Year in four digits (2024).\n",
    "-  **%m** - Month in two digits (01-12).\n",
    "-  **%d** - Day in two digits (01-31).\n",
    "-  **%H** - Hour in 24-hour format (00-23).\n",
    "-  **%M** - Minute in two digits (00-59).\n",
    "-  **%S** - Second in two digits (00-59)."
   ]
  },
  {
   "cell_type": "markdown",
   "metadata": {},
   "source": [
    "###  2. Format the Date  ###\n",
    "\n",
    "The date command was used with a format string to make a timestamp in the YYYYmmdd_HHMMSS format. The output was appended to a file named formatted.txt.\n"
   ]
  },
  {
   "cell_type": "markdown",
   "metadata": {},
   "source": [
    "```bash\n",
    "date +\"%Y%m%d_%H%M%S\" >> formatted.txt\n",
    "```"
   ]
  },
  {
   "cell_type": "markdown",
   "metadata": {},
   "source": [
    "###  3. Output  ###\n",
    "\n",
    "After completeing these steps the formatted.txt file contained this entry."
   ]
  },
  {
   "cell_type": "code",
   "execution_count": 8,
   "metadata": {},
   "outputs": [
    {
     "data": {
      "text/plain": [
       "20241020122601"
      ]
     },
     "execution_count": 8,
     "metadata": {},
     "output_type": "execute_result"
    }
   ],
   "source": [
    "20241020_122601"
   ]
  },
  {
   "cell_type": "markdown",
   "metadata": {},
   "source": [
    "This entry shows a timestamp in the YYYYmmdd_HHMMSS format."
   ]
  },
  {
   "cell_type": "markdown",
   "metadata": {},
   "source": [
    "### **Summary of new commands** ###\n",
    "\n",
    "- **man**  \n",
    "  *Purpose:* Display the manual page for a command, detailing its usage and options.  \n",
    "  *Role in Task:* Used to explore the formatting options for the `date` command to produce timestamps in the required format."
   ]
  },
  {
   "cell_type": "markdown",
   "metadata": {},
   "source": [
    "# **END** #"
   ]
  },
  {
   "cell_type": "markdown",
   "metadata": {},
   "source": [
    "## **Task 4: Create Timestamped Files** ##\n",
    "\n",
    "Use the touch command to create an empty file with a name in the YYYYmmdd_HHMMSS.txt format. You can achieve this by embedding your date command in backticks ` into the touch command. You should no longer use redirection (>>) in this step."
   ]
  },
  {
   "cell_type": "markdown",
   "metadata": {},
   "source": [
    "## How to complete the task ##\n",
    "\n",
    "###  1. Use the date Command to Generate a Timestamp  ###\n",
    "\n",
    "The date command was embedded within the touch command using backticks (`)."
   ]
  },
  {
   "cell_type": "markdown",
   "metadata": {},
   "source": [
    "\n",
    "```bash\n",
    "touch `date +\"%Y%m%d_%H%M%S\"`.txt\n",
    "```"
   ]
  },
  {
   "cell_type": "markdown",
   "metadata": {},
   "source": [
    "###  2. Verify the .txt file creation  ###\n",
    "\n",
    "The ls command was used to confirm that the file was created with the expected name."
   ]
  },
  {
   "cell_type": "markdown",
   "metadata": {},
   "source": [
    "```bash\n",
    "ls\n",
    "```"
   ]
  },
  {
   "cell_type": "markdown",
   "metadata": {},
   "source": [
    "### **Summary of new commands** ###\n",
    "\n",
    "- **touch**  \n",
    "  *Purpose:* Create an empty file with the specified name or update the timestamp of an existing file.  \n",
    "  *Role in Task:* Used to create empty files named with timestamped filenames.\n"
   ]
  },
  {
   "cell_type": "markdown",
   "metadata": {},
   "source": [
    "# **END** #"
   ]
  },
  {
   "cell_type": "markdown",
   "metadata": {},
   "source": [
    "## **Task 5: Download Today's Weather Data** ##\n",
    "\n",
    "Change to the data/weather directory. Download the latest weather data for the Athenry weather station from Met Eireann using wget. Use the -O <filename> option to save the file as weather.json. The data can be found at this URL:\n",
    "https://prodapi.metweb.ie/observations/athenry/today."
   ]
  },
  {
   "cell_type": "markdown",
   "metadata": {},
   "source": [
    "## How to complete the task ##\n",
    "\n",
    "###  1. Move to the data/weather Directory  ###\n",
    "\n",
    "The cd command was used to change to the data/weather directory."
   ]
  },
  {
   "cell_type": "markdown",
   "metadata": {},
   "source": [
    "```bash\n",
    "cd data/weather\n",
    "```"
   ]
  },
  {
   "cell_type": "markdown",
   "metadata": {},
   "source": [
    "###  2. Download the Weather Data Using wget  ###\n",
    "\n",
    "The wget command was used to download the weather data from a specified URL. The data was then saved as weather.json using the -O option:"
   ]
  },
  {
   "cell_type": "markdown",
   "metadata": {},
   "source": [
    "```bash\n",
    "wget -O weather.json https://prodapi.metweb.ie/observations/athenry/today\n",
    "```"
   ]
  },
  {
   "cell_type": "markdown",
   "metadata": {},
   "source": [
    "###  3. Verify the download  ###\n",
    "\n",
    "The ls command was used to verify the download exists within the directory."
   ]
  },
  {
   "cell_type": "markdown",
   "metadata": {},
   "source": [
    "```bash\n",
    "ls\n",
    "```"
   ]
  },
  {
   "cell_type": "markdown",
   "metadata": {},
   "source": [
    "### **Summary of new commands** ###\n",
    "\n",
    "- **wget -O <filename> <URL>**  \n",
    "  *Purpose:* Download a file from the specified URL and save it with the specified filename.  \n",
    "  *Role in Task:* Used to fetch weather data from Met Éireann and save it as `weather.json` or a timestamped file.\n"
   ]
  },
  {
   "cell_type": "markdown",
   "metadata": {},
   "source": [
    "# **END** #"
   ]
  },
  {
   "cell_type": "markdown",
   "metadata": {},
   "source": [
    "## **Task 6: Timestamp the Data** ##\n",
    "\n",
    "Modify the command from Task 5 to save the downloaded file with a timestamped name in the format YYYYmmdd_HHMMSS.json."
   ]
  },
  {
   "cell_type": "markdown",
   "metadata": {},
   "source": [
    "###  1. Navigate to the data/weather Directory  ###\n",
    "\n",
    "The cd command was used to move into the data/weather directory:"
   ]
  },
  {
   "cell_type": "markdown",
   "metadata": {},
   "source": [
    "```bash\n",
    "cd data/weather\n",
    "```"
   ]
  },
  {
   "cell_type": "markdown",
   "metadata": {},
   "source": [
    "###  2. Download the Weather Data with a Timestamped Name  ###\n",
    "\n",
    "The wget command was used to download the weather data.The date command was used to dynamically generate a timestamped filename in the format YYYYmmdd_HHMMSS.json:"
   ]
  },
  {
   "cell_type": "markdown",
   "metadata": {},
   "source": [
    "```bash\n",
    "wget -O $(date +\"%Y%m%d_%H%M%S\").json https://prodapi.metweb.ie/observations/athenry/today\n",
    "```"
   ]
  },
  {
   "cell_type": "markdown",
   "metadata": {},
   "source": [
    "###  3. Verify the download  ###\n",
    "\n",
    "The ls command was used to confirm that the file has been saved with the correct timestamped name:"
   ]
  },
  {
   "cell_type": "markdown",
   "metadata": {},
   "source": [
    "```bash\n",
    "ls\n",
    "```"
   ]
  },
  {
   "cell_type": "markdown",
   "metadata": {},
   "source": [
    "###  4. Inspect the Contents of the File  ###\n",
    "\n",
    "The more command was used to check the contents of the downloaded file:"
   ]
  },
  {
   "cell_type": "markdown",
   "metadata": {},
   "source": [
    "```bash\n",
    "more YYYYmmdd_HHMMSS.json\n",
    "```"
   ]
  },
  {
   "cell_type": "markdown",
   "metadata": {},
   "source": [
    "# **END** #"
   ]
  },
  {
   "cell_type": "markdown",
   "metadata": {},
   "source": [
    "# Analysing the Data #\n"
   ]
  },
  {
   "cell_type": "code",
   "execution_count": 9,
   "metadata": {},
   "outputs": [],
   "source": [
    "# Data frames.\n",
    "import pandas as pd"
   ]
  },
  {
   "cell_type": "code",
   "execution_count": 10,
   "metadata": {},
   "outputs": [],
   "source": [
    "# Read the data.\n",
    "\n",
    "df = pd.read_json('data/weather/20241208_172212_weather.json')"
   ]
  },
  {
   "cell_type": "code",
   "execution_count": 11,
   "metadata": {},
   "outputs": [
    {
     "data": {
      "text/html": [
       "<div>\n",
       "<style scoped>\n",
       "    .dataframe tbody tr th:only-of-type {\n",
       "        vertical-align: middle;\n",
       "    }\n",
       "\n",
       "    .dataframe tbody tr th {\n",
       "        vertical-align: top;\n",
       "    }\n",
       "\n",
       "    .dataframe thead th {\n",
       "        text-align: right;\n",
       "    }\n",
       "</style>\n",
       "<table border=\"1\" class=\"dataframe\">\n",
       "  <thead>\n",
       "    <tr style=\"text-align: right;\">\n",
       "      <th></th>\n",
       "      <th>name</th>\n",
       "      <th>temperature</th>\n",
       "      <th>symbol</th>\n",
       "      <th>weatherDescription</th>\n",
       "      <th>text</th>\n",
       "      <th>windSpeed</th>\n",
       "      <th>windGust</th>\n",
       "      <th>cardinalWindDirection</th>\n",
       "      <th>windDirection</th>\n",
       "      <th>humidity</th>\n",
       "      <th>rainfall</th>\n",
       "      <th>pressure</th>\n",
       "      <th>dayName</th>\n",
       "      <th>date</th>\n",
       "      <th>reportTime</th>\n",
       "    </tr>\n",
       "  </thead>\n",
       "  <tbody>\n",
       "    <tr>\n",
       "      <th>0</th>\n",
       "      <td>Athenry</td>\n",
       "      <td>4</td>\n",
       "      <td>02n</td>\n",
       "      <td>Fair</td>\n",
       "      <td>\"Fair\"</td>\n",
       "      <td>17</td>\n",
       "      <td>-</td>\n",
       "      <td>NW</td>\n",
       "      <td>315</td>\n",
       "      <td>85</td>\n",
       "      <td>0.00</td>\n",
       "      <td>1032</td>\n",
       "      <td>Sunday</td>\n",
       "      <td>2024-08-12</td>\n",
       "      <td>00:00</td>\n",
       "    </tr>\n",
       "    <tr>\n",
       "      <th>1</th>\n",
       "      <td>Athenry</td>\n",
       "      <td>4</td>\n",
       "      <td>02n</td>\n",
       "      <td>Fair</td>\n",
       "      <td>\"Fair\"</td>\n",
       "      <td>15</td>\n",
       "      <td>-</td>\n",
       "      <td>NW</td>\n",
       "      <td>315</td>\n",
       "      <td>87</td>\n",
       "      <td>0.00</td>\n",
       "      <td>1033</td>\n",
       "      <td>Sunday</td>\n",
       "      <td>2024-08-12</td>\n",
       "      <td>01:00</td>\n",
       "    </tr>\n",
       "    <tr>\n",
       "      <th>2</th>\n",
       "      <td>Athenry</td>\n",
       "      <td>4</td>\n",
       "      <td>40n</td>\n",
       "      <td>Light rain showers</td>\n",
       "      <td>\"Recent Rain\"</td>\n",
       "      <td>15</td>\n",
       "      <td>-</td>\n",
       "      <td>NW</td>\n",
       "      <td>315</td>\n",
       "      <td>89</td>\n",
       "      <td>0.01</td>\n",
       "      <td>1034</td>\n",
       "      <td>Sunday</td>\n",
       "      <td>2024-08-12</td>\n",
       "      <td>02:00</td>\n",
       "    </tr>\n",
       "    <tr>\n",
       "      <th>3</th>\n",
       "      <td>Athenry</td>\n",
       "      <td>3</td>\n",
       "      <td>05n</td>\n",
       "      <td>Rain showers</td>\n",
       "      <td>\"Rain shower\"</td>\n",
       "      <td>11</td>\n",
       "      <td>-</td>\n",
       "      <td>NW</td>\n",
       "      <td>315</td>\n",
       "      <td>91</td>\n",
       "      <td>0.10</td>\n",
       "      <td>1035</td>\n",
       "      <td>Sunday</td>\n",
       "      <td>2024-08-12</td>\n",
       "      <td>03:00</td>\n",
       "    </tr>\n",
       "    <tr>\n",
       "      <th>4</th>\n",
       "      <td>Athenry</td>\n",
       "      <td>3</td>\n",
       "      <td>40n</td>\n",
       "      <td>Light rain showers</td>\n",
       "      <td>\"Recent Precipitation\"</td>\n",
       "      <td>2</td>\n",
       "      <td>-</td>\n",
       "      <td>N</td>\n",
       "      <td>0</td>\n",
       "      <td>91</td>\n",
       "      <td>0.01</td>\n",
       "      <td>1036</td>\n",
       "      <td>Sunday</td>\n",
       "      <td>2024-08-12</td>\n",
       "      <td>04:00</td>\n",
       "    </tr>\n",
       "  </tbody>\n",
       "</table>\n",
       "</div>"
      ],
      "text/plain": [
       "      name  temperature symbol  weatherDescription                    text  \\\n",
       "0  Athenry            4    02n                Fair                  \"Fair\"   \n",
       "1  Athenry            4    02n                Fair                  \"Fair\"   \n",
       "2  Athenry            4    40n  Light rain showers           \"Recent Rain\"   \n",
       "3  Athenry            3    05n        Rain showers           \"Rain shower\"   \n",
       "4  Athenry            3    40n  Light rain showers  \"Recent Precipitation\"   \n",
       "\n",
       "   windSpeed windGust cardinalWindDirection  windDirection  humidity  \\\n",
       "0         17        -                    NW            315        85   \n",
       "1         15        -                    NW            315        87   \n",
       "2         15        -                    NW            315        89   \n",
       "3         11        -                    NW            315        91   \n",
       "4          2        -                     N              0        91   \n",
       "\n",
       "   rainfall  pressure dayName       date reportTime  \n",
       "0      0.00      1032  Sunday 2024-08-12      00:00  \n",
       "1      0.00      1033  Sunday 2024-08-12      01:00  \n",
       "2      0.01      1034  Sunday 2024-08-12      02:00  \n",
       "3      0.10      1035  Sunday 2024-08-12      03:00  \n",
       "4      0.01      1036  Sunday 2024-08-12      04:00  "
      ]
     },
     "execution_count": 11,
     "metadata": {},
     "output_type": "execute_result"
    }
   ],
   "source": [
    "# Show the data.\n",
    "\n",
    "df.head()"
   ]
  },
  {
   "cell_type": "code",
   "execution_count": 12,
   "metadata": {},
   "outputs": [
    {
     "data": {
      "text/html": [
       "<div>\n",
       "<style scoped>\n",
       "    .dataframe tbody tr th:only-of-type {\n",
       "        vertical-align: middle;\n",
       "    }\n",
       "\n",
       "    .dataframe tbody tr th {\n",
       "        vertical-align: top;\n",
       "    }\n",
       "\n",
       "    .dataframe thead th {\n",
       "        text-align: right;\n",
       "    }\n",
       "</style>\n",
       "<table border=\"1\" class=\"dataframe\">\n",
       "  <thead>\n",
       "    <tr style=\"text-align: right;\">\n",
       "      <th></th>\n",
       "      <th>temperature</th>\n",
       "      <th>windSpeed</th>\n",
       "      <th>windDirection</th>\n",
       "      <th>humidity</th>\n",
       "      <th>rainfall</th>\n",
       "      <th>pressure</th>\n",
       "      <th>date</th>\n",
       "    </tr>\n",
       "  </thead>\n",
       "  <tbody>\n",
       "    <tr>\n",
       "      <th>count</th>\n",
       "      <td>18.000000</td>\n",
       "      <td>18.000000</td>\n",
       "      <td>18.000000</td>\n",
       "      <td>18.000000</td>\n",
       "      <td>18.000000</td>\n",
       "      <td>18.000000</td>\n",
       "      <td>18</td>\n",
       "    </tr>\n",
       "    <tr>\n",
       "      <th>mean</th>\n",
       "      <td>4.944444</td>\n",
       "      <td>12.333333</td>\n",
       "      <td>157.500000</td>\n",
       "      <td>84.833333</td>\n",
       "      <td>0.007222</td>\n",
       "      <td>1037.277778</td>\n",
       "      <td>2024-08-12 00:00:00</td>\n",
       "    </tr>\n",
       "    <tr>\n",
       "      <th>min</th>\n",
       "      <td>2.000000</td>\n",
       "      <td>2.000000</td>\n",
       "      <td>0.000000</td>\n",
       "      <td>71.000000</td>\n",
       "      <td>0.000000</td>\n",
       "      <td>1032.000000</td>\n",
       "      <td>2024-08-12 00:00:00</td>\n",
       "    </tr>\n",
       "    <tr>\n",
       "      <th>25%</th>\n",
       "      <td>4.000000</td>\n",
       "      <td>9.000000</td>\n",
       "      <td>0.000000</td>\n",
       "      <td>79.000000</td>\n",
       "      <td>0.000000</td>\n",
       "      <td>1036.000000</td>\n",
       "      <td>2024-08-12 00:00:00</td>\n",
       "    </tr>\n",
       "    <tr>\n",
       "      <th>50%</th>\n",
       "      <td>4.000000</td>\n",
       "      <td>11.000000</td>\n",
       "      <td>157.500000</td>\n",
       "      <td>87.000000</td>\n",
       "      <td>0.000000</td>\n",
       "      <td>1038.000000</td>\n",
       "      <td>2024-08-12 00:00:00</td>\n",
       "    </tr>\n",
       "    <tr>\n",
       "      <th>75%</th>\n",
       "      <td>6.750000</td>\n",
       "      <td>15.000000</td>\n",
       "      <td>315.000000</td>\n",
       "      <td>91.000000</td>\n",
       "      <td>0.000000</td>\n",
       "      <td>1039.000000</td>\n",
       "      <td>2024-08-12 00:00:00</td>\n",
       "    </tr>\n",
       "    <tr>\n",
       "      <th>max</th>\n",
       "      <td>9.000000</td>\n",
       "      <td>26.000000</td>\n",
       "      <td>315.000000</td>\n",
       "      <td>93.000000</td>\n",
       "      <td>0.100000</td>\n",
       "      <td>1040.000000</td>\n",
       "      <td>2024-08-12 00:00:00</td>\n",
       "    </tr>\n",
       "    <tr>\n",
       "      <th>std</th>\n",
       "      <td>1.954549</td>\n",
       "      <td>5.213106</td>\n",
       "      <td>157.594509</td>\n",
       "      <td>7.302296</td>\n",
       "      <td>0.023466</td>\n",
       "      <td>2.468759</td>\n",
       "      <td>NaN</td>\n",
       "    </tr>\n",
       "  </tbody>\n",
       "</table>\n",
       "</div>"
      ],
      "text/plain": [
       "       temperature  windSpeed  windDirection   humidity   rainfall  \\\n",
       "count    18.000000  18.000000      18.000000  18.000000  18.000000   \n",
       "mean      4.944444  12.333333     157.500000  84.833333   0.007222   \n",
       "min       2.000000   2.000000       0.000000  71.000000   0.000000   \n",
       "25%       4.000000   9.000000       0.000000  79.000000   0.000000   \n",
       "50%       4.000000  11.000000     157.500000  87.000000   0.000000   \n",
       "75%       6.750000  15.000000     315.000000  91.000000   0.000000   \n",
       "max       9.000000  26.000000     315.000000  93.000000   0.100000   \n",
       "std       1.954549   5.213106     157.594509   7.302296   0.023466   \n",
       "\n",
       "          pressure                 date  \n",
       "count    18.000000                   18  \n",
       "mean   1037.277778  2024-08-12 00:00:00  \n",
       "min    1032.000000  2024-08-12 00:00:00  \n",
       "25%    1036.000000  2024-08-12 00:00:00  \n",
       "50%    1038.000000  2024-08-12 00:00:00  \n",
       "75%    1039.000000  2024-08-12 00:00:00  \n",
       "max    1040.000000  2024-08-12 00:00:00  \n",
       "std       2.468759                  NaN  "
      ]
     },
     "execution_count": 12,
     "metadata": {},
     "output_type": "execute_result"
    }
   ],
   "source": [
    "df.describe()"
   ]
  },
  {
   "cell_type": "code",
   "execution_count": 13,
   "metadata": {},
   "outputs": [
    {
     "name": "stdout",
     "output_type": "stream",
     "text": [
      "<class 'pandas.core.frame.DataFrame'>\n",
      "RangeIndex: 18 entries, 0 to 17\n",
      "Data columns (total 15 columns):\n",
      " #   Column                 Non-Null Count  Dtype         \n",
      "---  ------                 --------------  -----         \n",
      " 0   name                   18 non-null     object        \n",
      " 1   temperature            18 non-null     int64         \n",
      " 2   symbol                 18 non-null     object        \n",
      " 3   weatherDescription     18 non-null     object        \n",
      " 4   text                   18 non-null     object        \n",
      " 5   windSpeed              18 non-null     int64         \n",
      " 6   windGust               18 non-null     object        \n",
      " 7   cardinalWindDirection  18 non-null     object        \n",
      " 8   windDirection          18 non-null     int64         \n",
      " 9   humidity               18 non-null     int64         \n",
      " 10  rainfall               18 non-null     float64       \n",
      " 11  pressure               18 non-null     int64         \n",
      " 12  dayName                18 non-null     object        \n",
      " 13  date                   18 non-null     datetime64[ns]\n",
      " 14  reportTime             18 non-null     object        \n",
      "dtypes: datetime64[ns](1), float64(1), int64(5), object(8)\n",
      "memory usage: 2.2+ KB\n"
     ]
    }
   ],
   "source": [
    "# Examine the data.\n",
    "df.info()"
   ]
  },
  {
   "cell_type": "markdown",
   "metadata": {},
   "source": [
    "The today's weather Athenry is a dataset containing weather data collected at a weather station in Athenry, Co Galway. The file is updated hourly and contains a record of weather observations for every hour of the current day.\n",
    "\n",
    "The dataset can be found at https://data.gov.ie/dataset/todays-weather-athenry. The dataset can be downloaded as a JSON or CSV file."
   ]
  },
  {
   "cell_type": "markdown",
   "metadata": {},
   "source": [
    "### Summary of Weather Data Fields ###\n",
    "\n",
    "- **name:**  \n",
    "  The name of the weather station providing the data.\n",
    "\n",
    "- **temperature:**  \n",
    "  The current air temperature in degrees Celsius (°C).\n",
    "\n",
    "- **symbol:**  \n",
    "  A code or visual representation associated with the current weather condition (e.g., icons for \"sunny\" or \"rainy\").\n",
    "\n",
    "- **weatherDescription:**  \n",
    "  A textual description of the current weather condition (e.g., \"Cloudy\" or \"Sunny\").\n",
    "\n",
    "- **text:**  \n",
    "  Additional text-based information related to the weather conditions, potentially from a forecast or observation report.\n",
    "\n",
    "- **windSpeed:**  \n",
    "  The speed of the wind at the time of observation, typically measured in kilometers per hour (km/h) or meters per second (m/s).\n",
    "\n",
    "- **windGust:**  \n",
    "  The peak wind gust speed measured during the observation period, often provided in the same unit as `windSpeed`.\n",
    "\n",
    "- **cardinalWindDirection:**  \n",
    "  The cardinal direction of the wind (e.g., \"N\" for North, \"NE\" for Northeast).\n",
    "\n",
    "- **windDirection:**  \n",
    "  The numerical wind direction in degrees (0° = North, 90° = East).\n",
    "\n",
    "- **humidity:**  \n",
    "  The percentage of water vapor in the air, indicating moisture levels.\n",
    "\n",
    "- **rainfall:**  \n",
    "  The amount of precipitation measured during a specific time interval, recorded in millimeters (mm).\n",
    "\n",
    "- **pressure:**  \n",
    "  The atmospheric pressure at the observation site, measured in hectopascals (hPa).\n",
    "\n",
    "- **dayName:**  \n",
    "  The day of the week corresponding to the observation (e.g., \"Monday\").\n",
    "\n",
    "- **date:**  \n",
    "  The date of the observation in a datetime format.\n",
    "\n",
    "- **reportTime:**  \n",
    "  The time of the report or observation, given in HH:MM format."
   ]
  },
  {
   "cell_type": "markdown",
   "metadata": {},
   "source": [
    "# **END** #"
   ]
  }
 ],
 "metadata": {
  "kernelspec": {
   "display_name": "base",
   "language": "python",
   "name": "python3"
  },
  "language_info": {
   "codemirror_mode": {
    "name": "ipython",
    "version": 3
   },
   "file_extension": ".py",
   "mimetype": "text/x-python",
   "name": "python",
   "nbconvert_exporter": "python",
   "pygments_lexer": "ipython3",
   "version": "3.11.7"
  }
 },
 "nbformat": 4,
 "nbformat_minor": 2
}
