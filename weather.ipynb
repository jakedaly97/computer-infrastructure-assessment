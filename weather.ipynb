{
 "cells": [
  {
   "cell_type": "markdown",
   "metadata": {},
   "source": [
    "# Computer Infrastructure Assesment #\n",
    "\n",
    "This notebook contains a brief description on how each task was completed and provides detail on each command used."
   ]
  },
  {
   "cell_type": "markdown",
   "metadata": {},
   "source": [
    "## **Task 1: Create Directory Structure** ##\n",
    "\n",
    "Using the command line, create a directory (that is, a folder) named data at the root of your repository. Inside data, create two subdirectories: timestamps and weather. Using the command line, create a directory (that is, a folder) named data at the root of your repository. Inside data, create two subdirectories: timestamps and weather.\n"
   ]
  },
  {
   "cell_type": "markdown",
   "metadata": {},
   "source": [
    "## How to complete the task ##\n",
    "\n",
    "###  1. Go to the Root of the Repository  ###\n",
    "\n",
    "The terminal in Visual Studio Code was used to navigate to the root directory of the repository. This was done by using the cd command to navigate to the appropriate location.\n",
    "\n"
   ]
  },
  {
   "cell_type": "markdown",
   "metadata": {},
   "source": [
    "```bash\n",
    "cd C:\\Users\\jaked\\college\\computer-infrastructure-assessment\\\n",
    "```\n"
   ]
  },
  {
   "cell_type": "markdown",
   "metadata": {},
   "source": [
    "###  2. Create data directory  ###\n",
    "\n",
    "The mkdir command was used to create the data directory at the root of the repository."
   ]
  },
  {
   "cell_type": "markdown",
   "metadata": {},
   "source": [
    "```bash\n",
    "mkdir data\n",
    "```"
   ]
  },
  {
   "cell_type": "markdown",
   "metadata": {},
   "source": [
    "###  3. Move into the data directory  ###\n",
    "\n",
    "The cd command was used to navigate into the data directory."
   ]
  },
  {
   "cell_type": "markdown",
   "metadata": {},
   "source": [
    "```bash\n",
    "cd data\n",
    "```"
   ]
  },
  {
   "cell_type": "markdown",
   "metadata": {},
   "source": [
    "###  4. Create subdirectories ###\n",
    "\n",
    "The mkdir command was used to create the timestamps and weather subdirectories inside the data directory."
   ]
  },
  {
   "cell_type": "markdown",
   "metadata": {},
   "source": [
    "```bash\n",
    "mkdir timestamps weather\n",
    "```"
   ]
  },
  {
   "cell_type": "markdown",
   "metadata": {},
   "source": [
    "###  5. Confirm directory structure ###\n",
    "\n",
    "The ls command was used inside the data directory to ensure the timestamp and weather subdirectories were created."
   ]
  },
  {
   "cell_type": "markdown",
   "metadata": {},
   "source": [
    "```bash\n",
    "ls\n",
    "```"
   ]
  },
  {
   "cell_type": "markdown",
   "metadata": {},
   "source": [
    "## **Task 2: Timestamps** ##\n",
    "\n",
    "Navigate to the data/timestamps directory. Use the date command to output the current date and time, appending the output to a file named now.txt. Make sure to use the >> operator to append (not overwrite) the file. Repeat this step ten times, then use the more command to verify that now.txt has the expected content."
   ]
  },
  {
   "cell_type": "markdown",
   "metadata": {},
   "source": [
    "## How to complete the task ##\n",
    "\n",
    "###  1. Navigate to the data/timestamps directory  ###\n",
    "\n",
    "The cd command was used to move into the timestamps directory."
   ]
  },
  {
   "cell_type": "markdown",
   "metadata": {},
   "source": [
    "```bash\n",
    "cd data/timestamps\n",
    "```"
   ]
  },
  {
   "cell_type": "markdown",
   "metadata": {},
   "source": [
    "###  2. Output current date and time to now.txt  ###\n",
    "\n",
    "The date command was used to get the current date and time. The >> command was used to output the date to the file now.txt. This step was performed 10 time."
   ]
  },
  {
   "cell_type": "markdown",
   "metadata": {},
   "source": [
    "```bash\n",
    "date >> now.txt\n",
    "```"
   ]
  },
  {
   "cell_type": "markdown",
   "metadata": {},
   "source": [
    "###  3. Verify the now.txt file  ###\n",
    "\n",
    "The more command was used to verify the contents of the now.txt file to ensure all 10 entries were present."
   ]
  },
  {
   "cell_type": "markdown",
   "metadata": {},
   "source": [
    "```bash\n",
    "more now.txt\n",
    "```"
   ]
  },
  {
   "cell_type": "markdown",
   "metadata": {},
   "source": [
    "## **Task 3: Formatting Timestampsps** ##\n",
    "\n",
    "Run the date command again, but this time format the output using YYYYmmdd_HHMMSS (e.g., 20261114_130003 for 1:00:03 PM on November 14, 2026). Refer to the date man page (using man date) for more formatting options. (Press q to exit the man page). Append the formatted output to a file named formatted.txt."
   ]
  },
  {
   "cell_type": "markdown",
   "metadata": {},
   "source": [
    "## How to complete the task ##\n",
    "\n",
    "###  1. Run man date command  ###\n",
    "\n",
    "The manual page for the date command was accessed using the man date command, showing the formatting options for the date command."
   ]
  },
  {
   "cell_type": "markdown",
   "metadata": {},
   "source": [
    "```bash\n",
    "man date\n",
    "```"
   ]
  },
  {
   "cell_type": "markdown",
   "metadata": {},
   "source": [
    "Formatting syntax:\n",
    "\n",
    "-  **%Y** - Year in four digits (2024).\n",
    "-  **%m** - Month in two digits (01-12).\n",
    "-  **%d** - Day in two digits (01-31).\n",
    "-  **%H** - Hour in 24-hour format (00-23).\n",
    "-  **%M** - Minute in two digits (00-59).\n",
    "-  **%S** - Second in two digits (00-59)."
   ]
  },
  {
   "cell_type": "markdown",
   "metadata": {},
   "source": [
    "###  2. Format the Date  ###\n",
    "\n",
    "The date command was used with a format string to make a timestamp in the YYYYmmdd_HHMMSS format. The output was appended to a file named formatted.txt.\n"
   ]
  },
  {
   "cell_type": "markdown",
   "metadata": {},
   "source": [
    "```bash\n",
    "date +\"%Y%m%d_%H%M%S\" >> formatted.txt\n",
    "```"
   ]
  },
  {
   "cell_type": "markdown",
   "metadata": {},
   "source": [
    "###  3. Output  ###\n",
    "\n",
    "After completeing these steps the formatted.txt file contained this entry."
   ]
  },
  {
   "cell_type": "code",
   "execution_count": 2,
   "metadata": {},
   "outputs": [
    {
     "data": {
      "text/plain": [
       "20241020122601"
      ]
     },
     "execution_count": 2,
     "metadata": {},
     "output_type": "execute_result"
    }
   ],
   "source": [
    "20241020_122601"
   ]
  },
  {
   "cell_type": "markdown",
   "metadata": {},
   "source": [
    "This entry shows a timestamp in the YYYYmmdd_HHMMSS format."
   ]
  }
 ],
 "metadata": {
  "kernelspec": {
   "display_name": "base",
   "language": "python",
   "name": "python3"
  },
  "language_info": {
   "codemirror_mode": {
    "name": "ipython",
    "version": 3
   },
   "file_extension": ".py",
   "mimetype": "text/x-python",
   "name": "python",
   "nbconvert_exporter": "python",
   "pygments_lexer": "ipython3",
   "version": "3.11.7"
  }
 },
 "nbformat": 4,
 "nbformat_minor": 2
}
