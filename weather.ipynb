{
 "cells": [
  {
   "cell_type": "markdown",
   "metadata": {},
   "source": [
    "# Computer Infrastructure Assesment #\n",
    "\n",
    "This notebook contains a brief description on how each task was completed and provides detail on each command used."
   ]
  },
  {
   "cell_type": "markdown",
   "metadata": {},
   "source": [
    "## **Task 1: Create Directory Structure** ##\n",
    "\n",
    "Using the command line, create a directory (that is, a folder) named data at the root of your repository. Inside data, create two subdirectories: timestamps and weather. Using the command line, create a directory (that is, a folder) named data at the root of your repository. Inside data, create two subdirectories: timestamps and weather.\n"
   ]
  },
  {
   "cell_type": "markdown",
   "metadata": {},
   "source": [
    "## How to complete the task ##\n",
    "\n",
    "###  1. Go to the Root of the Repository  ###\n",
    "\n",
    "The terminal in Visual Studio Code was used to navigate to the root directory of the repository. This was done by using the cd command to navigate to the appropriate location.\n",
    "\n"
   ]
  },
  {
   "cell_type": "markdown",
   "metadata": {},
   "source": [
    "```bash\n",
    "cd C:\\Users\\jaked\\college\\computer-infrastructure-assessment\\\n",
    "```\n"
   ]
  },
  {
   "cell_type": "markdown",
   "metadata": {},
   "source": [
    "###  2. Create data directory  ###\n",
    "\n",
    "The mkdir command was used to create the data directory at the root of the repository."
   ]
  },
  {
   "cell_type": "markdown",
   "metadata": {},
   "source": [
    "```bash\n",
    "mkdir data\n",
    "```"
   ]
  },
  {
   "cell_type": "markdown",
   "metadata": {},
   "source": [
    "###  3. Move into the data directory  ###\n",
    "\n",
    "The cd command was used to navigate into the data directory."
   ]
  },
  {
   "cell_type": "markdown",
   "metadata": {},
   "source": [
    "```bash\n",
    "cd data\n",
    "```"
   ]
  },
  {
   "cell_type": "markdown",
   "metadata": {},
   "source": [
    "###  4. Create subdirectories ###\n",
    "\n",
    "The mkdir command was used to create the timestamps and weather subdirectories inside the data directory."
   ]
  },
  {
   "cell_type": "markdown",
   "metadata": {},
   "source": [
    "```bash\n",
    "mkdir timestamps weather\n",
    "```"
   ]
  },
  {
   "cell_type": "markdown",
   "metadata": {},
   "source": [
    "###  5. Confirm directory structure ###\n",
    "\n",
    "The ls command was used inside the data directory to ensure the timestamp and weather subdirectories were created."
   ]
  },
  {
   "cell_type": "markdown",
   "metadata": {},
   "source": [
    "```bash\n",
    "ls\n",
    "```"
   ]
  },
  {
   "cell_type": "markdown",
   "metadata": {},
   "source": [
    "### **Summary of new commands** ###\n",
    "\n",
    "- **cd**  \n",
    "  *Purpose:* Navigate between directories to ensure the correct working location.  \n",
    "  *Role in Task:* Used to move into specific directories (`data`, `timestamps`, or `weather`) before performing further actions.\n",
    "\n",
    "- **mkdir**  \n",
    "  *Purpose:* Create new directories at specified locations.  \n",
    "  *Role in Task:* Used to create the `data`, `timestamps`, and `weather` directories to organize the file structure.\n",
    "\n",
    "- **ls**  \n",
    "  *Purpose:* Verify the directory structure and confirm successful creation of directories.  \n",
    "  *Role in Task:* Used to list the contents of a directory to check if directories and files were created as expected.\n",
    "\n"
   ]
  },
  {
   "cell_type": "markdown",
   "metadata": {},
   "source": [
    "# **END** #"
   ]
  },
  {
   "cell_type": "markdown",
   "metadata": {},
   "source": [
    "## **Task 2: Timestamps** ##\n",
    "\n",
    "Navigate to the data/timestamps directory. Use the date command to output the current date and time, appending the output to a file named now.txt. Make sure to use the >> operator to append (not overwrite) the file. Repeat this step ten times, then use the more command to verify that now.txt has the expected content."
   ]
  },
  {
   "cell_type": "markdown",
   "metadata": {},
   "source": [
    "## How to complete the task ##\n",
    "\n",
    "###  1. Navigate to the data/timestamps directory  ###\n",
    "\n",
    "The cd command was used to move into the timestamps directory."
   ]
  },
  {
   "cell_type": "markdown",
   "metadata": {},
   "source": [
    "```bash\n",
    "cd data/timestamps\n",
    "```"
   ]
  },
  {
   "cell_type": "markdown",
   "metadata": {},
   "source": [
    "###  2. Output current date and time to now.txt  ###\n",
    "\n",
    "The date command was used to get the current date and time. The >> command was used to output the date to the file now.txt. This step was performed 10 time."
   ]
  },
  {
   "cell_type": "markdown",
   "metadata": {},
   "source": [
    "```bash\n",
    "date >> now.txt\n",
    "```"
   ]
  },
  {
   "cell_type": "markdown",
   "metadata": {},
   "source": [
    "###  3. Verify the now.txt file  ###\n",
    "\n",
    "The more command was used to verify the contents of the now.txt file to ensure all 10 entries were present."
   ]
  },
  {
   "cell_type": "markdown",
   "metadata": {},
   "source": [
    "```bash\n",
    "more now.txt\n",
    "```"
   ]
  },
  {
   "cell_type": "markdown",
   "metadata": {},
   "source": [
    "### **Summary of new commands** ###\n",
    "\n",
    "- **date**  \n",
    "  *Purpose:* Output the current date and time in a customizable format.  \n",
    "  *Role in Task:* Used to generate timestamps for filenames and file content, ensuring they are unique and formatted correctly.\n",
    "\n",
    "- **>>**  \n",
    "  *Purpose:* Append output to an existing file without overwriting its content.  \n",
    "  *Role in Task:* Used to append timestamps from the `date` command to files like `now.txt` and `formatted.txt`.\n",
    "\n",
    "- **more**  \n",
    "  *Purpose:* Display the contents of a file one screen at a time for easier reading.  \n",
    "  *Role in Task:* Used to verify the contents of files like `now.txt` or `formatted.txt` to ensure the expected data was appended.\n",
    "\n"
   ]
  },
  {
   "cell_type": "markdown",
   "metadata": {},
   "source": [
    "# **END** #"
   ]
  },
  {
   "cell_type": "markdown",
   "metadata": {},
   "source": [
    "## **Task 3: Formatting Timestamps** ##\n",
    "\n",
    "Run the date command again, but this time format the output using YYYYmmdd_HHMMSS (e.g., 20261114_130003 for 1:00:03 PM on November 14, 2026). Refer to the date man page (using man date) for more formatting options. (Press q to exit the man page). Append the formatted output to a file named formatted.txt."
   ]
  },
  {
   "cell_type": "markdown",
   "metadata": {},
   "source": [
    "## How to complete the task ##\n",
    "\n",
    "###  1. Run man date command  ###\n",
    "\n",
    "The manual page for the date command was accessed using the man date command, showing the formatting options for the date command."
   ]
  },
  {
   "cell_type": "markdown",
   "metadata": {},
   "source": [
    "```bash\n",
    "man date\n",
    "```"
   ]
  },
  {
   "cell_type": "markdown",
   "metadata": {},
   "source": [
    "Formatting syntax:\n",
    "\n",
    "-  **%Y** - Year in four digits (2024).\n",
    "-  **%m** - Month in two digits (01-12).\n",
    "-  **%d** - Day in two digits (01-31).\n",
    "-  **%H** - Hour in 24-hour format (00-23).\n",
    "-  **%M** - Minute in two digits (00-59).\n",
    "-  **%S** - Second in two digits (00-59)."
   ]
  },
  {
   "cell_type": "markdown",
   "metadata": {},
   "source": [
    "###  2. Format the Date  ###\n",
    "\n",
    "The date command was used with a format string to make a timestamp in the YYYYmmdd_HHMMSS format. The output was appended to a file named formatted.txt.\n"
   ]
  },
  {
   "cell_type": "markdown",
   "metadata": {},
   "source": [
    "```bash\n",
    "date +\"%Y%m%d_%H%M%S\" >> formatted.txt\n",
    "```"
   ]
  },
  {
   "cell_type": "markdown",
   "metadata": {},
   "source": [
    "###  3. Output  ###\n",
    "\n",
    "After completeing these steps the formatted.txt file contained this entry."
   ]
  },
  {
   "cell_type": "code",
   "execution_count": 2,
   "metadata": {},
   "outputs": [
    {
     "data": {
      "text/plain": [
       "20241020122601"
      ]
     },
     "execution_count": 2,
     "metadata": {},
     "output_type": "execute_result"
    }
   ],
   "source": [
    "20241020_122601"
   ]
  },
  {
   "cell_type": "markdown",
   "metadata": {},
   "source": [
    "This entry shows a timestamp in the YYYYmmdd_HHMMSS format."
   ]
  },
  {
   "cell_type": "markdown",
   "metadata": {},
   "source": [
    "### **Summary of new commands** ###\n",
    "\n",
    "- **man**  \n",
    "  *Purpose:* Display the manual page for a command, detailing its usage and options.  \n",
    "  *Role in Task:* Used to explore the formatting options for the `date` command to produce timestamps in the required format."
   ]
  },
  {
   "cell_type": "markdown",
   "metadata": {},
   "source": [
    "# **END** #"
   ]
  },
  {
   "cell_type": "markdown",
   "metadata": {},
   "source": [
    "## **Task 4: Create Timestamped Files** ##\n",
    "\n",
    "Use the touch command to create an empty file with a name in the YYYYmmdd_HHMMSS.txt format. You can achieve this by embedding your date command in backticks ` into the touch command. You should no longer use redirection (>>) in this step."
   ]
  },
  {
   "cell_type": "markdown",
   "metadata": {},
   "source": [
    "## How to complete the task ##\n",
    "\n",
    "###  1. Use the date Command to Generate a Timestamp  ###\n",
    "\n",
    "The date command was embedded within the touch command using backticks (`)."
   ]
  },
  {
   "cell_type": "code",
   "execution_count": null,
   "metadata": {},
   "outputs": [],
   "source": [
    "```bash\n",
    "touch `date +\"%Y%m%d_%H%M%S\"`.txt\n",
    "```"
   ]
  },
  {
   "cell_type": "markdown",
   "metadata": {},
   "source": [
    "###  2. Verify the .txt file creation  ###\n",
    "\n",
    "The ls command was used to confirm that the file was created with the expected name."
   ]
  },
  {
   "cell_type": "markdown",
   "metadata": {},
   "source": [
    "```bash\n",
    "ls\n",
    "```"
   ]
  },
  {
   "cell_type": "markdown",
   "metadata": {},
   "source": [
    "### **Summary of new commands** ###\n",
    "\n",
    "- **touch**  \n",
    "  *Purpose:* Create an empty file with the specified name or update the timestamp of an existing file.  \n",
    "  *Role in Task:* Used to create empty files named with timestamped filenames.\n"
   ]
  },
  {
   "cell_type": "markdown",
   "metadata": {},
   "source": [
    "# **END** #"
   ]
  },
  {
   "cell_type": "markdown",
   "metadata": {},
   "source": [
    "## **Task 5: Download Today's Weather Data** ##\n",
    "\n",
    "Change to the data/weather directory. Download the latest weather data for the Athenry weather station from Met Eireann using wget. Use the -O <filename> option to save the file as weather.json. The data can be found at this URL:\n",
    "https://prodapi.metweb.ie/observations/athenry/today."
   ]
  },
  {
   "cell_type": "markdown",
   "metadata": {},
   "source": [
    "## How to complete the task ##\n",
    "\n",
    "###  1. Move to the data/weather Directory  ###\n",
    "\n",
    "The cd command was used to change to the data/weather directory."
   ]
  },
  {
   "cell_type": "markdown",
   "metadata": {},
   "source": [
    "```bash\n",
    "cd data/weather\n",
    "```"
   ]
  },
  {
   "cell_type": "markdown",
   "metadata": {},
   "source": [
    "###  2. Download the Weather Data Using wget  ###\n",
    "\n",
    "The wget command was used to download the weather data from a specified URL. The data was then saved as weather.json using the -O option:"
   ]
  },
  {
   "cell_type": "markdown",
   "metadata": {},
   "source": [
    "```bash\n",
    "wget -O weather.json https://prodapi.metweb.ie/observations/athenry/today\n",
    "```"
   ]
  },
  {
   "cell_type": "markdown",
   "metadata": {},
   "source": [
    "###  3. Verify the download  ###\n",
    "\n",
    "The ls command was used to verify the download exists within the directory."
   ]
  },
  {
   "cell_type": "markdown",
   "metadata": {},
   "source": [
    "```bash\n",
    "ls\n",
    "```"
   ]
  },
  {
   "cell_type": "markdown",
   "metadata": {},
   "source": [
    "### **Summary of new commands** ###\n",
    "\n",
    "- **wget -O <filename> <URL>**  \n",
    "  *Purpose:* Download a file from the specified URL and save it with the specified filename.  \n",
    "  *Role in Task:* Used to fetch weather data from Met Éireann and save it as `weather.json` or a timestamped file.\n"
   ]
  },
  {
   "cell_type": "markdown",
   "metadata": {},
   "source": [
    "# **END** #"
   ]
  },
  {
   "cell_type": "markdown",
   "metadata": {},
   "source": [
    "## **Task 6: Timestamp the Data** ##\n",
    "\n",
    "Modify the command from Task 5 to save the downloaded file with a timestamped name in the format YYYYmmdd_HHMMSS.json."
   ]
  },
  {
   "cell_type": "markdown",
   "metadata": {},
   "source": [
    "###  1. Navigate to the data/weather Directory  ###\n",
    "\n",
    "The cd command was used to move into the data/weather directory:"
   ]
  },
  {
   "cell_type": "markdown",
   "metadata": {},
   "source": [
    "```bash\n",
    "cd data/weather\n",
    "```"
   ]
  },
  {
   "cell_type": "markdown",
   "metadata": {},
   "source": [
    "###  2. Download the Weather Data with a Timestamped Name  ###\n",
    "\n",
    "The wget command was used to download the weather data.The date command was used to dynamically generate a timestamped filename in the format YYYYmmdd_HHMMSS.json:"
   ]
  },
  {
   "cell_type": "markdown",
   "metadata": {},
   "source": [
    "```bash\n",
    "wget -O $(date +\"%Y%m%d_%H%M%S\").json https://prodapi.metweb.ie/observations/athenry/today\n",
    "```"
   ]
  },
  {
   "cell_type": "markdown",
   "metadata": {},
   "source": [
    "###  3. Verify the download  ###\n",
    "\n",
    "The ls command was used to confirm that the file has been saved with the correct timestamped name:"
   ]
  },
  {
   "cell_type": "markdown",
   "metadata": {},
   "source": [
    "```bash\n",
    "ls\n",
    "```"
   ]
  },
  {
   "cell_type": "markdown",
   "metadata": {},
   "source": [
    "###  4. Inspect the Contents of the File  ###\n",
    "\n",
    "The more command was used to check the contents of the downloaded file:"
   ]
  },
  {
   "cell_type": "markdown",
   "metadata": {},
   "source": [
    "```bash\n",
    "more YYYYmmdd_HHMMSS.json\n",
    "```"
   ]
  },
  {
   "cell_type": "markdown",
   "metadata": {},
   "source": [
    "# **END** #"
   ]
  }
 ],
 "metadata": {
  "kernelspec": {
   "display_name": "base",
   "language": "python",
   "name": "python3"
  },
  "language_info": {
   "codemirror_mode": {
    "name": "ipython",
    "version": 3
   },
   "file_extension": ".py",
   "mimetype": "text/x-python",
   "name": "python",
   "nbconvert_exporter": "python",
   "pygments_lexer": "ipython3",
   "version": "3.11.7"
  }
 },
 "nbformat": 4,
 "nbformat_minor": 2
}
